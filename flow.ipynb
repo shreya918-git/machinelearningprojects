{
 "cells": [
  {
   "cell_type": "markdown",
   "id": "15f121f6-d0f0-4227-b574-33d21783e5f5",
   "metadata": {},
   "source": [
    "This is a toy project of a model predicting placement status from cgpa and iq.\n",
    "<br>\n",
    "Plan of action-\n",
    "<br>\n",
    "<b>importing the necessary libraries,csv files<b>\n",
    "<br>\n",
    "<b>preprocessing(removing redundant columns)</b>\n",
    "<br>\n",
    "<b>extracting input and output fields</b>\n",
    "<br>\n",
    "<b>splitting the dataset</b>\n",
    "<br>\n",
    "<b>performing standardization on the input fields</b>\n",
    "<br>\n",
    "<b>importing prediction algorithm(in this case logistic regression)</b>\n",
    "<br>\n",
    "<b>Verifying accuracy and exporting the model</b>\n",
    "<br>\n",
    "<b>deploying the model on cloud</b>"
   ]
  },
  {
   "cell_type": "code",
   "execution_count": null,
   "id": "82f3bb55-decf-48b5-93a5-203e3dd88d43",
   "metadata": {},
   "outputs": [],
   "source": [
    "import numpy as np\n",
    "import pandas as pd\n",
    "df=pd.read_csv(\"\")\n",
    "df.head\n",
    "df.size\n",
    "df=df.iloc(:,0:)\n",
    "import matplotlib as plt \n",
    "plt(df[\"cgpa\"],df[\"iq\"],df[\"placements\"]) #for plotting input data\n",
    "X=df.iloc(:,0:2)\n",
    "Y=df.iloc(:,-1)\n",
    "from sklearn.model_selection import train_test_split\n",
    "X_train,X_test,Y_train,Y_test=train_test_split(X,Y)\n",
    "from sklearn.preprocessing  import StandardScaler\n",
    "scaler=StandardScaler()\n",
    "X_train=scaler.transform(X_train)\n",
    "X_test=scaler.transform(X_test)\n",
    "from sklearn.linear_models import LogisticRegression\n",
    "clf=LogisticRegression()\n",
    "Y_pred=clf(X_train,Y_train)\n",
    "from mlxtend.plotting import plot_decision_regions\n",
    "plot_decision_regions(X_train,Y_train.values,clf=clf,legend=2)  #for plotting decision boundaries\n",
    "from sklearn.metrics import accuracy_score\n",
    "accuracy_score(Y_train,Y_pred)\n",
    "import pickle \n",
    "pickle.dump(clf,open(\"model.pkl\",\"wb\"))"
   ]
  }
 ],
 "metadata": {
  "kernelspec": {
   "display_name": "Python 3 (ipykernel)",
   "language": "python",
   "name": "python3"
  },
  "language_info": {
   "codemirror_mode": {
    "name": "ipython",
    "version": 3
   },
   "file_extension": ".py",
   "mimetype": "text/x-python",
   "name": "python",
   "nbconvert_exporter": "python",
   "pygments_lexer": "ipython3",
   "version": "3.12.7"
  }
 },
 "nbformat": 4,
 "nbformat_minor": 5
}
