{
 "cells": [
  {
   "cell_type": "markdown",
   "id": "15f121f6-d0f0-4227-b574-33d21783e5f5",
   "metadata": {},
   "source": [
    "This is a toy project of a model predicting placement status from cgpa and iq.\n",
    "<br>\n",
    "Plan of action-\n",
    "<br>\n",
    "<b>importing the necessary libraries,csv files<b>\n",
    "<br>\n",
    "<b>preprocessing(removing redundant columns)</b>\n",
    "<br>\n",
    "<b>extracting input and output fields</b>\n",
    "<br>\n",
    "<b>splitting the dataset</b>\n",
    "<br>\n",
    "<b>performing standardization on the input fields</b>\n",
    "<br>\n",
    "<b>importing prediction algorithm(in this case logistic regression)</b>\n",
    "<br>\n",
    "<b>Verifying accuracy and exporting the model</b>\n",
    "<br>\n",
    "<b>deploying the model on cloud</b>"
   ]
  },
  {
   "cell_type": "code",
   "execution_count": null,
   "id": "82f3bb55-decf-48b5-93a5-203e3dd88d43",
   "metadata": {},
   "outputs": [],
   "source": [
    "import numpy as np\n",
    "import pandas as pd\n",
    "df=pd.read_csv(\"\")"
   ]
  }
 ],
 "metadata": {
  "kernelspec": {
   "display_name": "Python 3 (ipykernel)",
   "language": "python",
   "name": "python3"
  },
  "language_info": {
   "codemirror_mode": {
    "name": "ipython",
    "version": 3
   },
   "file_extension": ".py",
   "mimetype": "text/x-python",
   "name": "python",
   "nbconvert_exporter": "python",
   "pygments_lexer": "ipython3",
   "version": "3.12.7"
  }
 },
 "nbformat": 4,
 "nbformat_minor": 5
}
